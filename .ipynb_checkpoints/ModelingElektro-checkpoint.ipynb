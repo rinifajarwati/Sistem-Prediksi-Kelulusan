{
 "cells": [
  {
   "cell_type": "code",
   "execution_count": 1,
   "metadata": {},
   "outputs": [],
   "source": [
    "import pandas as pd\n",
    "import numpy as np\n",
    "# Import package model selection dari Sklearn\n",
    "from sklearn.model_selection import train_test_split\n",
    "import matplotlib.pyplot as plt\n",
    "import seaborn as sn\n",
    "from sklearn import svm\n",
    "from sklearn.metrics import classification_report, confusion_matrix\n",
    "from sklearn.model_selection import train_test_split"
   ]
  },
  {
   "cell_type": "code",
   "execution_count": 2,
   "metadata": {},
   "outputs": [],
   "source": [
    "df = pd.read_excel('elektro2018-2020.xlsx', header=None)"
   ]
  },
  {
   "cell_type": "code",
   "execution_count": 3,
   "metadata": {},
   "outputs": [],
   "source": [
    "# Menghapus Index ke-0\n",
    "df = df.drop([0, 1])\n",
    "\n",
    "# Menghapus Index\n",
    "df = df.reset_index(drop=True)\n",
    "df.columns = ['yudisium','nim','nama','jurusan','tgl_seminar_TA', 'tgl_acc_pemb', 'penulisan', 'TA','KKN','lama_penulisan','thn_masuk','thn_lulus_yudisium','lama_studi','sks','ip','IPK','toefl_ppb','toefl_ket','tempat_lhr','tgl_lhr','Kelas']"
   ]
  },
  {
   "cell_type": "code",
   "execution_count": 4,
   "metadata": {},
   "outputs": [],
   "source": [
    "def_status = 0\n",
    "df.fillna(def_status, inplace = True)"
   ]
  },
  {
   "cell_type": "code",
   "execution_count": 5,
   "metadata": {},
   "outputs": [],
   "source": [
    "df = df.loc[:, [\"nama\",\"nim\", \"jurusan\", \"thn_masuk\", \"thn_lulus_yudisium\", \"lama_studi\", \"ip\", \"toefl_ppb\", \"Kelas\"]]"
   ]
  },
  {
   "cell_type": "code",
   "execution_count": 6,
   "metadata": {},
   "outputs": [],
   "source": [
    "for index, row in df.iterrows():\n",
    "  df.loc[index, 'masa studi']=row['thn_lulus_yudisium']-row['thn_masuk']"
   ]
  },
  {
   "cell_type": "code",
   "execution_count": 7,
   "metadata": {},
   "outputs": [],
   "source": [
    "df['masa studi'] = df['masa studi'].astype('str')"
   ]
  },
  {
   "cell_type": "code",
   "execution_count": null,
   "metadata": {},
   "outputs": [],
   "source": []
  },
  {
   "cell_type": "code",
   "execution_count": 8,
   "metadata": {},
   "outputs": [],
   "source": [
    "df['ms'] = df['masa studi'].str.replace('days', '').apply(float)\n",
    "for index, row in df.iterrows():\n",
    "  if row['ms'] >=1278 and  row['ms']<=1460 :\n",
    "    df.loc[index, 'ms'] = '1'\n",
    "  else:\n",
    "    df.loc[index, 'ms'] = '0'\n",
    "    \n",
    "df['ip'] = df['ip'].astype('float')\n",
    "for index, row in df.iterrows():\n",
    "  if row['ip'] >=3.51 and  row['ip'] <= 4.00 :\n",
    "    df.loc[index, 'IPK'] = '1'\n",
    "  elif row['ip'] >=3.01 and  row['ip'] < 3.51 :\n",
    "     df.loc[index, 'IPK'] = '2'\n",
    "  elif row['ip'] >= 2.76 and  row['ip'] < 3.00 :\n",
    "     df.loc[index, 'IPK'] = '3'\n",
    "  else:\n",
    "    df.loc[index, 'IPK'] = '0'\n",
    "    \n",
    "df['toefl_ppb'] = df['toefl_ppb'].astype('float')\n",
    "for index, row in df.iterrows():\n",
    "  if row['toefl_ppb'] >=  400 :\n",
    "    df.loc[index, 'Toefl'] = '1'\n",
    "  else:\n",
    "    df.loc[index, 'Toefl'] = '0'\n",
    "    \n",
    "for index, row in df.iterrows():\n",
    "  if row['Kelas'] == 'Tepat Waktu'  :\n",
    "    df.loc[index, 'Kelas'] = '1'\n",
    "  else:\n",
    "    df.loc[index, 'Kelas'] = '0'"
   ]
  },
  {
   "cell_type": "code",
   "execution_count": 9,
   "metadata": {},
   "outputs": [],
   "source": [
    "df['Kelas'] = df['Kelas'].astype('float')\n",
    "df['IPK'] = df['IPK'].astype('float')\n",
    "df['ms'] = df['ms'].astype('float')\n",
    "df['Toefl'] = df['Toefl'].astype('float')"
   ]
  },
  {
   "cell_type": "code",
   "execution_count": 10,
   "metadata": {},
   "outputs": [],
   "source": [
    "data = df.loc[:,['IPK', 'Toefl', 'ms', 'Kelas']]"
   ]
  },
  {
   "cell_type": "code",
   "execution_count": 11,
   "metadata": {},
   "outputs": [],
   "source": [
    "x=data\n",
    "y = data[\"Kelas\"]"
   ]
  },
  {
   "cell_type": "code",
   "execution_count": 12,
   "metadata": {},
   "outputs": [],
   "source": [
    "x_train, x_test, y_train, y_test = train_test_split(x, y,  test_size=0.5,random_state=100) "
   ]
  },
  {
   "cell_type": "code",
   "execution_count": 13,
   "metadata": {},
   "outputs": [],
   "source": [
    "#menggunakan SVM library untuk membuat SVM classifier\n",
    "from sklearn.svm import SVC\n",
    "from sklearn import svm\n",
    "classifier = svm.SVC(kernel = 'linear')\n",
    "hasil = classifier.fit(x_train, y_train)"
   ]
  },
  {
   "cell_type": "code",
   "execution_count": 14,
   "metadata": {},
   "outputs": [],
   "source": [
    "import pickle\n",
    "pickle.dump(classifier, open(\"modelElektro.pkl\", \"wb\"))"
   ]
  },
  {
   "cell_type": "code",
   "execution_count": null,
   "metadata": {},
   "outputs": [],
   "source": []
  }
 ],
 "metadata": {
  "kernelspec": {
   "display_name": "Python 3",
   "language": "python",
   "name": "python3"
  },
  "language_info": {
   "codemirror_mode": {
    "name": "ipython",
    "version": 3
   },
   "file_extension": ".py",
   "mimetype": "text/x-python",
   "name": "python",
   "nbconvert_exporter": "python",
   "pygments_lexer": "ipython3",
   "version": "3.8.5"
  }
 },
 "nbformat": 4,
 "nbformat_minor": 4
}
